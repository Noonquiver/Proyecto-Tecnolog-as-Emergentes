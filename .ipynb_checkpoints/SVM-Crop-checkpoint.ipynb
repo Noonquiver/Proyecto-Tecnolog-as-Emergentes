{
 "cells": [
  {
   "cell_type": "markdown",
   "metadata": {},
   "source": [
    "#Crop recommendation system using SVM"
   ]
  },
  {
   "cell_type": "code",
   "execution_count": 1,
   "metadata": {},
   "outputs": [],
   "source": [
    "import opendatasets as od\n",
    "import pandas as pd\n",
    "import seaborn as sns\n",
    "\n",
    "from sklearn.model_selection import train_test_split\n",
    "from sklearn.svm import SVC\n",
    "from sklearn import metrics\n",
    "from sklearn.metrics import classification_report\n",
    "from sklearn.model_selection import cross_val_score\n",
    "import matplotlib.pyplot as plt\n",
    "from sklearn.compose import ColumnTransformer\n",
    "from sklearn.preprocessing import OneHotEncoder\n",
    "import numpy as np\n",
    "from mlxtend.plotting import plot_decision_regions\n",
    "from sklearn import svm"
   ]
  },
  {
   "cell_type": "code",
   "execution_count": 2,
   "metadata": {},
   "outputs": [
    {
     "data": {
      "text/html": [
       "<div>\n",
       "<style scoped>\n",
       "    .dataframe tbody tr th:only-of-type {\n",
       "        vertical-align: middle;\n",
       "    }\n",
       "\n",
       "    .dataframe tbody tr th {\n",
       "        vertical-align: top;\n",
       "    }\n",
       "\n",
       "    .dataframe thead th {\n",
       "        text-align: right;\n",
       "    }\n",
       "</style>\n",
       "<table border=\"1\" class=\"dataframe\">\n",
       "  <thead>\n",
       "    <tr style=\"text-align: right;\">\n",
       "      <th></th>\n",
       "      <th>N</th>\n",
       "      <th>P</th>\n",
       "      <th>K</th>\n",
       "      <th>temperature</th>\n",
       "      <th>humidity</th>\n",
       "      <th>ph</th>\n",
       "      <th>rainfall</th>\n",
       "      <th>label</th>\n",
       "    </tr>\n",
       "  </thead>\n",
       "  <tbody>\n",
       "    <tr>\n",
       "      <th>0</th>\n",
       "      <td>90</td>\n",
       "      <td>42</td>\n",
       "      <td>43</td>\n",
       "      <td>20.879744</td>\n",
       "      <td>82.002744</td>\n",
       "      <td>6.502985</td>\n",
       "      <td>202.935536</td>\n",
       "      <td>rice</td>\n",
       "    </tr>\n",
       "    <tr>\n",
       "      <th>1</th>\n",
       "      <td>85</td>\n",
       "      <td>58</td>\n",
       "      <td>41</td>\n",
       "      <td>21.770462</td>\n",
       "      <td>80.319644</td>\n",
       "      <td>7.038096</td>\n",
       "      <td>226.655537</td>\n",
       "      <td>rice</td>\n",
       "    </tr>\n",
       "    <tr>\n",
       "      <th>2</th>\n",
       "      <td>60</td>\n",
       "      <td>55</td>\n",
       "      <td>44</td>\n",
       "      <td>23.004459</td>\n",
       "      <td>82.320763</td>\n",
       "      <td>7.840207</td>\n",
       "      <td>263.964248</td>\n",
       "      <td>rice</td>\n",
       "    </tr>\n",
       "    <tr>\n",
       "      <th>3</th>\n",
       "      <td>74</td>\n",
       "      <td>35</td>\n",
       "      <td>40</td>\n",
       "      <td>26.491096</td>\n",
       "      <td>80.158363</td>\n",
       "      <td>6.980401</td>\n",
       "      <td>242.864034</td>\n",
       "      <td>rice</td>\n",
       "    </tr>\n",
       "    <tr>\n",
       "      <th>4</th>\n",
       "      <td>78</td>\n",
       "      <td>42</td>\n",
       "      <td>42</td>\n",
       "      <td>20.130175</td>\n",
       "      <td>81.604873</td>\n",
       "      <td>7.628473</td>\n",
       "      <td>262.717340</td>\n",
       "      <td>rice</td>\n",
       "    </tr>\n",
       "  </tbody>\n",
       "</table>\n",
       "</div>"
      ],
      "text/plain": [
       "    N   P   K  temperature   humidity        ph    rainfall label\n",
       "0  90  42  43    20.879744  82.002744  6.502985  202.935536  rice\n",
       "1  85  58  41    21.770462  80.319644  7.038096  226.655537  rice\n",
       "2  60  55  44    23.004459  82.320763  7.840207  263.964248  rice\n",
       "3  74  35  40    26.491096  80.158363  6.980401  242.864034  rice\n",
       "4  78  42  42    20.130175  81.604873  7.628473  262.717340  rice"
      ]
     },
     "execution_count": 2,
     "metadata": {},
     "output_type": "execute_result"
    }
   ],
   "source": [
    "PATH = '../SVM/Crop_recommendation.csv'\n",
    "df = pd.read_csv(PATH)\n",
    "df.head()"
   ]
  },
  {
   "cell_type": "code",
   "execution_count": 3,
   "metadata": {},
   "outputs": [
    {
     "data": {
      "text/plain": [
       "N                int64\n",
       "P                int64\n",
       "K                int64\n",
       "temperature    float64\n",
       "humidity       float64\n",
       "ph             float64\n",
       "rainfall       float64\n",
       "label           object\n",
       "dtype: object"
      ]
     },
     "execution_count": 3,
     "metadata": {},
     "output_type": "execute_result"
    }
   ],
   "source": [
    "df.dtypes"
   ]
  },
  {
   "cell_type": "code",
   "execution_count": 4,
   "metadata": {},
   "outputs": [
    {
     "data": {
      "text/plain": [
       "rice           100\n",
       "maize          100\n",
       "jute           100\n",
       "cotton         100\n",
       "coconut        100\n",
       "papaya         100\n",
       "orange         100\n",
       "apple          100\n",
       "muskmelon      100\n",
       "watermelon     100\n",
       "grapes         100\n",
       "mango          100\n",
       "banana         100\n",
       "pomegranate    100\n",
       "lentil         100\n",
       "blackgram      100\n",
       "mungbean       100\n",
       "mothbeans      100\n",
       "pigeonpeas     100\n",
       "kidneybeans    100\n",
       "chickpea       100\n",
       "coffee         100\n",
       "Name: label, dtype: int64"
      ]
     },
     "execution_count": 4,
     "metadata": {},
     "output_type": "execute_result"
    }
   ],
   "source": [
    "df['label'].value_counts()"
   ]
  },
  {
   "cell_type": "code",
   "execution_count": 5,
   "metadata": {},
   "outputs": [
    {
     "data": {
      "text/html": [
       "<div>\n",
       "<style scoped>\n",
       "    .dataframe tbody tr th:only-of-type {\n",
       "        vertical-align: middle;\n",
       "    }\n",
       "\n",
       "    .dataframe tbody tr th {\n",
       "        vertical-align: top;\n",
       "    }\n",
       "\n",
       "    .dataframe thead th {\n",
       "        text-align: right;\n",
       "    }\n",
       "</style>\n",
       "<table border=\"1\" class=\"dataframe\">\n",
       "  <thead>\n",
       "    <tr style=\"text-align: right;\">\n",
       "      <th></th>\n",
       "      <th>label</th>\n",
       "      <th>labelID</th>\n",
       "    </tr>\n",
       "  </thead>\n",
       "  <tbody>\n",
       "    <tr>\n",
       "      <th>0</th>\n",
       "      <td>rice</td>\n",
       "      <td>0</td>\n",
       "    </tr>\n",
       "    <tr>\n",
       "      <th>1</th>\n",
       "      <td>maize</td>\n",
       "      <td>1</td>\n",
       "    </tr>\n",
       "    <tr>\n",
       "      <th>2</th>\n",
       "      <td>chickpea</td>\n",
       "      <td>2</td>\n",
       "    </tr>\n",
       "    <tr>\n",
       "      <th>3</th>\n",
       "      <td>kidneybeans</td>\n",
       "      <td>3</td>\n",
       "    </tr>\n",
       "    <tr>\n",
       "      <th>4</th>\n",
       "      <td>pigeonpeas</td>\n",
       "      <td>4</td>\n",
       "    </tr>\n",
       "    <tr>\n",
       "      <th>5</th>\n",
       "      <td>mothbeans</td>\n",
       "      <td>5</td>\n",
       "    </tr>\n",
       "    <tr>\n",
       "      <th>6</th>\n",
       "      <td>mungbean</td>\n",
       "      <td>6</td>\n",
       "    </tr>\n",
       "    <tr>\n",
       "      <th>7</th>\n",
       "      <td>blackgram</td>\n",
       "      <td>7</td>\n",
       "    </tr>\n",
       "    <tr>\n",
       "      <th>8</th>\n",
       "      <td>lentil</td>\n",
       "      <td>8</td>\n",
       "    </tr>\n",
       "    <tr>\n",
       "      <th>9</th>\n",
       "      <td>pomegranate</td>\n",
       "      <td>9</td>\n",
       "    </tr>\n",
       "    <tr>\n",
       "      <th>10</th>\n",
       "      <td>banana</td>\n",
       "      <td>10</td>\n",
       "    </tr>\n",
       "    <tr>\n",
       "      <th>11</th>\n",
       "      <td>mango</td>\n",
       "      <td>11</td>\n",
       "    </tr>\n",
       "    <tr>\n",
       "      <th>12</th>\n",
       "      <td>grapes</td>\n",
       "      <td>12</td>\n",
       "    </tr>\n",
       "    <tr>\n",
       "      <th>13</th>\n",
       "      <td>watermelon</td>\n",
       "      <td>13</td>\n",
       "    </tr>\n",
       "    <tr>\n",
       "      <th>14</th>\n",
       "      <td>muskmelon</td>\n",
       "      <td>14</td>\n",
       "    </tr>\n",
       "    <tr>\n",
       "      <th>15</th>\n",
       "      <td>apple</td>\n",
       "      <td>15</td>\n",
       "    </tr>\n",
       "    <tr>\n",
       "      <th>16</th>\n",
       "      <td>orange</td>\n",
       "      <td>16</td>\n",
       "    </tr>\n",
       "    <tr>\n",
       "      <th>17</th>\n",
       "      <td>papaya</td>\n",
       "      <td>17</td>\n",
       "    </tr>\n",
       "    <tr>\n",
       "      <th>18</th>\n",
       "      <td>coconut</td>\n",
       "      <td>18</td>\n",
       "    </tr>\n",
       "    <tr>\n",
       "      <th>19</th>\n",
       "      <td>cotton</td>\n",
       "      <td>19</td>\n",
       "    </tr>\n",
       "    <tr>\n",
       "      <th>20</th>\n",
       "      <td>jute</td>\n",
       "      <td>20</td>\n",
       "    </tr>\n",
       "    <tr>\n",
       "      <th>21</th>\n",
       "      <td>coffee</td>\n",
       "      <td>21</td>\n",
       "    </tr>\n",
       "  </tbody>\n",
       "</table>\n",
       "</div>"
      ],
      "text/plain": [
       "          label  labelID\n",
       "0          rice        0\n",
       "1         maize        1\n",
       "2      chickpea        2\n",
       "3   kidneybeans        3\n",
       "4    pigeonpeas        4\n",
       "5     mothbeans        5\n",
       "6      mungbean        6\n",
       "7     blackgram        7\n",
       "8        lentil        8\n",
       "9   pomegranate        9\n",
       "10       banana       10\n",
       "11        mango       11\n",
       "12       grapes       12\n",
       "13   watermelon       13\n",
       "14    muskmelon       14\n",
       "15        apple       15\n",
       "16       orange       16\n",
       "17       papaya       17\n",
       "18      coconut       18\n",
       "19       cotton       19\n",
       "20         jute       20\n",
       "21       coffee       21"
      ]
     },
     "execution_count": 5,
     "metadata": {},
     "output_type": "execute_result"
    }
   ],
   "source": [
    "names = pd.unique(df['label'].values.ravel())\n",
    "names = pd.Series(np.arange(len(names)), names)\n",
    "names = pd.DataFrame({\"label\":names.index, \"labelID\":names.values})\n",
    "names\n"
   ]
  },
  {
   "cell_type": "code",
   "execution_count": 6,
   "metadata": {},
   "outputs": [
    {
     "data": {
      "text/html": [
       "<div>\n",
       "<style scoped>\n",
       "    .dataframe tbody tr th:only-of-type {\n",
       "        vertical-align: middle;\n",
       "    }\n",
       "\n",
       "    .dataframe tbody tr th {\n",
       "        vertical-align: top;\n",
       "    }\n",
       "\n",
       "    .dataframe thead th {\n",
       "        text-align: right;\n",
       "    }\n",
       "</style>\n",
       "<table border=\"1\" class=\"dataframe\">\n",
       "  <thead>\n",
       "    <tr style=\"text-align: right;\">\n",
       "      <th></th>\n",
       "      <th>N</th>\n",
       "      <th>P</th>\n",
       "      <th>K</th>\n",
       "      <th>temperature</th>\n",
       "      <th>humidity</th>\n",
       "      <th>ph</th>\n",
       "      <th>rainfall</th>\n",
       "      <th>label</th>\n",
       "      <th>labelID</th>\n",
       "    </tr>\n",
       "  </thead>\n",
       "  <tbody>\n",
       "    <tr>\n",
       "      <th>0</th>\n",
       "      <td>90</td>\n",
       "      <td>42</td>\n",
       "      <td>43</td>\n",
       "      <td>20.879744</td>\n",
       "      <td>82.002744</td>\n",
       "      <td>6.502985</td>\n",
       "      <td>202.935536</td>\n",
       "      <td>rice</td>\n",
       "      <td>0</td>\n",
       "    </tr>\n",
       "    <tr>\n",
       "      <th>1</th>\n",
       "      <td>85</td>\n",
       "      <td>58</td>\n",
       "      <td>41</td>\n",
       "      <td>21.770462</td>\n",
       "      <td>80.319644</td>\n",
       "      <td>7.038096</td>\n",
       "      <td>226.655537</td>\n",
       "      <td>rice</td>\n",
       "      <td>0</td>\n",
       "    </tr>\n",
       "    <tr>\n",
       "      <th>2</th>\n",
       "      <td>60</td>\n",
       "      <td>55</td>\n",
       "      <td>44</td>\n",
       "      <td>23.004459</td>\n",
       "      <td>82.320763</td>\n",
       "      <td>7.840207</td>\n",
       "      <td>263.964248</td>\n",
       "      <td>rice</td>\n",
       "      <td>0</td>\n",
       "    </tr>\n",
       "    <tr>\n",
       "      <th>3</th>\n",
       "      <td>74</td>\n",
       "      <td>35</td>\n",
       "      <td>40</td>\n",
       "      <td>26.491096</td>\n",
       "      <td>80.158363</td>\n",
       "      <td>6.980401</td>\n",
       "      <td>242.864034</td>\n",
       "      <td>rice</td>\n",
       "      <td>0</td>\n",
       "    </tr>\n",
       "    <tr>\n",
       "      <th>4</th>\n",
       "      <td>78</td>\n",
       "      <td>42</td>\n",
       "      <td>42</td>\n",
       "      <td>20.130175</td>\n",
       "      <td>81.604873</td>\n",
       "      <td>7.628473</td>\n",
       "      <td>262.717340</td>\n",
       "      <td>rice</td>\n",
       "      <td>0</td>\n",
       "    </tr>\n",
       "  </tbody>\n",
       "</table>\n",
       "</div>"
      ],
      "text/plain": [
       "    N   P   K  temperature   humidity        ph    rainfall label  labelID\n",
       "0  90  42  43    20.879744  82.002744  6.502985  202.935536  rice        0\n",
       "1  85  58  41    21.770462  80.319644  7.038096  226.655537  rice        0\n",
       "2  60  55  44    23.004459  82.320763  7.840207  263.964248  rice        0\n",
       "3  74  35  40    26.491096  80.158363  6.980401  242.864034  rice        0\n",
       "4  78  42  42    20.130175  81.604873  7.628473  262.717340  rice        0"
      ]
     },
     "execution_count": 6,
     "metadata": {},
     "output_type": "execute_result"
    }
   ],
   "source": [
    "df_merge = pd.merge(df, names)\n",
    "df_merge.head()"
   ]
  },
  {
   "cell_type": "code",
   "execution_count": 6,
   "metadata": {},
   "outputs": [],
   "source": [
    "//df_merge.to_csv(r'myData.csv', index=False)"
   ]
  },
  {
   "cell_type": "code",
   "execution_count": 7,
   "metadata": {},
   "outputs": [
    {
     "data": {
      "text/plain": [
       "<AxesSubplot:>"
      ]
     },
     "execution_count": 7,
     "metadata": {},
     "output_type": "execute_result"
    },
    {
     "data": {
      "image/png": "[encoded data removed]",
      "text/plain": [
       "<Figure size 432x288 with 2 Axes>"
      ]
     },
     "metadata": {
      "needs_background": "light"
     },
     "output_type": "display_data"
    }
   ],
   "source": [
    "sns.heatmap(df_merge.corr(),annot=True)"
   ]
  },
  {
   "cell_type": "code",
   "execution_count": 41,
   "metadata": {},
   "outputs": [],
   "source": [
    "features = df_merge[['humidity', 'temperature', 'P', 'ph']]\n",
    "target = df_merge['label']\n",
    "#labels = df_merge['Optimal']\n",
    "\n",
    "#features = df_merge[['humidity', 'temperature']]\n",
    "#target = df_merge['label']\n",
    "\n",
    "acc = []\n",
    "model = []\n",
    "\n",
    "Xtrain, Xtest, Ytrain, Ytest = train_test_split(features,target,test_size = 0.2,random_state =2)"
   ]
  },
  {
   "cell_type": "code",
   "execution_count": 42,
   "metadata": {},
   "outputs": [
    {
     "name": "stdout",
     "output_type": "stream",
     "text": [
      "SVM's Accuracy:  0.7613636363636364\n",
      "\n",
      "              precision    recall  f1-score   support\n",
      "\n",
      "       apple       1.00      0.79      0.88        28\n",
      "      banana       1.00      0.96      0.98        23\n",
      "   blackgram       0.57      0.76      0.65        17\n",
      "    chickpea       0.94      1.00      0.97        16\n",
      "     coconut       0.70      0.70      0.70        20\n",
      "      coffee       0.83      0.88      0.86        17\n",
      "      cotton       0.47      0.60      0.53        15\n",
      "      grapes       1.00      0.67      0.80        18\n",
      "        jute       0.53      0.44      0.48        18\n",
      " kidneybeans       1.00      0.90      0.95        21\n",
      "      lentil       0.86      0.46      0.60        26\n",
      "       maize       0.52      0.79      0.63        14\n",
      "       mango       0.94      0.74      0.83        23\n",
      "   mothbeans       0.79      0.69      0.73        16\n",
      "    mungbean       1.00      0.90      0.95        29\n",
      "   muskmelon       0.75      0.86      0.80        21\n",
      "      orange       0.63      0.63      0.63        19\n",
      "      papaya       1.00      0.91      0.95        22\n",
      "  pigeonpeas       0.35      0.86      0.50        21\n",
      " pomegranate       0.94      0.71      0.81        24\n",
      "        rice       0.73      0.58      0.65        19\n",
      "  watermelon       0.92      0.92      0.92        13\n",
      "\n",
      "    accuracy                           0.76       440\n",
      "   macro avg       0.80      0.76      0.76       440\n",
      "weighted avg       0.81      0.76      0.77       440\n",
      "\n"
     ]
    }
   ],
   "source": [
    "SVM = SVC(gamma='auto')\n",
    "SVM.fit(Xtrain, Ytrain)\n",
    "\n",
    "predictad_values = SVM.predict(Xtest)\n",
    "\n",
    "x = metrics.accuracy_score(Ytest, predictad_values)\n",
    "acc.append(x)\n",
    "model.append('SVM')\n",
    "\n",
    "print(\"SVM's Accuracy: \", x)\n",
    "print()\n",
    "print(classification_report(Ytest, predictad_values))"
   ]
  },
  {
   "cell_type": "code",
   "execution_count": 12,
   "metadata": {},
   "outputs": [
    {
     "data": {
      "text/plain": [
       "array(['apple', 'lentil', 'coffee', 'coconut', 'apple', 'orange',\n",
       "       'watermelon', 'muskmelon', 'grapes', 'blackgram', 'pigeonpeas',\n",
       "       'apple', 'orange', 'cotton', 'lentil', 'kidneybeans', 'mungbean',\n",
       "       'mothbeans', 'muskmelon', 'mungbean', 'blackgram', 'maize',\n",
       "       'banana', 'lentil', 'maize', 'lentil', 'muskmelon', 'muskmelon',\n",
       "       'apple', 'pomegranate', 'maize', 'pigeonpeas', 'watermelon',\n",
       "       'pomegranate', 'watermelon', 'papaya', 'coconut', 'banana',\n",
       "       'mothbeans', 'mothbeans', 'orange', 'coffee', 'lentil', 'apple',\n",
       "       'rice', 'coffee', 'blackgram', 'cotton', 'papaya', 'pigeonpeas',\n",
       "       'pomegranate', 'mango', 'coconut', 'rice', 'coconut', 'mango',\n",
       "       'pomegranate', 'blackgram', 'mango', 'mungbean', 'apple', 'apple',\n",
       "       'grapes', 'watermelon', 'grapes', 'jute', 'watermelon', 'coffee',\n",
       "       'papaya', 'kidneybeans', 'watermelon', 'mungbean', 'pigeonpeas',\n",
       "       'maize', 'blackgram', 'kidneybeans', 'lentil', 'apple', 'coffee',\n",
       "       'pomegranate', 'coffee', 'blackgram', 'chickpea', 'rice',\n",
       "       'blackgram', 'watermelon', 'mungbean', 'kidneybeans',\n",
       "       'kidneybeans', 'muskmelon', 'chickpea', 'mungbean', 'coffee',\n",
       "       'mungbean', 'mungbean', 'banana', 'blackgram', 'kidneybeans',\n",
       "       'mango', 'coffee', 'banana', 'watermelon', 'banana', 'muskmelon',\n",
       "       'pomegranate', 'apple', 'kidneybeans', 'coffee', 'mango',\n",
       "       'mungbean', 'blackgram', 'coffee', 'blackgram', 'muskmelon',\n",
       "       'watermelon', 'maize', 'pigeonpeas', 'cotton', 'lentil',\n",
       "       'blackgram', 'apple', 'chickpea', 'watermelon', 'jute', 'coconut',\n",
       "       'banana', 'orange', 'mungbean', 'mungbean', 'pomegranate',\n",
       "       'papaya', 'banana', 'chickpea', 'coconut', 'pigeonpeas', 'papaya',\n",
       "       'papaya', 'mango', 'kidneybeans', 'watermelon', 'lentil',\n",
       "       'muskmelon', 'watermelon', 'blackgram', 'blackgram', 'banana',\n",
       "       'chickpea', 'grapes', 'coconut', 'coconut', 'coconut', 'coconut',\n",
       "       'muskmelon', 'mango', 'rice', 'orange', 'rice', 'apple',\n",
       "       'mungbean', 'papaya', 'blackgram', 'pomegranate', 'banana',\n",
       "       'muskmelon', 'apple', 'chickpea', 'pomegranate', 'blackgram',\n",
       "       'cotton', 'banana', 'mungbean', 'banana', 'pigeonpeas', 'cotton',\n",
       "       'maize', 'grapes', 'lentil', 'orange', 'cotton', 'lentil', 'apple',\n",
       "       'pomegranate', 'mungbean', 'cotton', 'blackgram', 'watermelon',\n",
       "       'apple', 'grapes', 'chickpea', 'orange', 'jute', 'grapes',\n",
       "       'papaya', 'mango', 'maize', 'cotton', 'watermelon', 'muskmelon',\n",
       "       'mothbeans', 'orange', 'coffee', 'apple', 'banana', 'rice',\n",
       "       'banana', 'muskmelon', 'cotton', 'kidneybeans', 'maize', 'cotton',\n",
       "       'watermelon', 'chickpea', 'mango', 'cotton', 'blackgram', 'papaya',\n",
       "       'muskmelon', 'coffee', 'watermelon', 'kidneybeans', 'orange',\n",
       "       'pomegranate', 'coffee', 'banana', 'cotton', 'mungbean', 'maize',\n",
       "       'mothbeans', 'kidneybeans', 'mango', 'jute', 'watermelon',\n",
       "       'pigeonpeas', 'pomegranate', 'chickpea', 'coconut', 'coconut',\n",
       "       'banana', 'papaya', 'orange', 'blackgram', 'pomegranate', 'coffee',\n",
       "       'banana', 'blackgram', 'grapes', 'rice', 'kidneybeans',\n",
       "       'watermelon', 'mango', 'mango', 'chickpea', 'mothbeans',\n",
       "       'mothbeans', 'apple', 'mango', 'banana', 'grapes', 'coconut',\n",
       "       'mothbeans', 'lentil', 'lentil', 'pigeonpeas', 'coffee', 'banana',\n",
       "       'grapes', 'papaya', 'jute', 'cotton', 'mothbeans', 'blackgram',\n",
       "       'banana', 'muskmelon', 'muskmelon', 'blackgram', 'coconut',\n",
       "       'mungbean', 'cotton', 'rice', 'mungbean', 'blackgram', 'maize',\n",
       "       'muskmelon', 'kidneybeans', 'mango', 'pomegranate', 'maize',\n",
       "       'grapes', 'apple', 'maize', 'chickpea', 'rice', 'chickpea', 'rice',\n",
       "       'banana', 'papaya', 'blackgram', 'rice', 'blackgram', 'jute',\n",
       "       'maize', 'mungbean', 'mothbeans', 'pigeonpeas', 'papaya',\n",
       "       'kidneybeans', 'mungbean', 'apple', 'mango', 'mungbean',\n",
       "       'watermelon', 'mango', 'pomegranate', 'mungbean', 'pigeonpeas',\n",
       "       'kidneybeans', 'muskmelon', 'mungbean', 'maize', 'coffee',\n",
       "       'pomegranate', 'coffee', 'coconut', 'coconut', 'muskmelon',\n",
       "       'blackgram', 'banana', 'banana', 'maize', 'papaya', 'orange',\n",
       "       'jute', 'apple', 'banana', 'pomegranate', 'apple', 'grapes',\n",
       "       'papaya', 'coconut', 'mungbean', 'watermelon', 'orange', 'apple',\n",
       "       'mango', 'maize', 'watermelon', 'cotton', 'coffee', 'pigeonpeas',\n",
       "       'mango', 'mungbean', 'mothbeans', 'apple', 'pomegranate',\n",
       "       'pigeonpeas', 'muskmelon', 'apple', 'cotton', 'cotton', 'rice',\n",
       "       'mungbean', 'apple', 'apple', 'kidneybeans', 'watermelon',\n",
       "       'kidneybeans', 'cotton', 'muskmelon', 'muskmelon', 'watermelon',\n",
       "       'watermelon', 'rice', 'muskmelon', 'mungbean', 'lentil',\n",
       "       'kidneybeans', 'pigeonpeas', 'muskmelon', 'apple', 'mango',\n",
       "       'coffee', 'muskmelon', 'banana', 'pigeonpeas', 'watermelon',\n",
       "       'lentil', 'papaya', 'maize', 'lentil', 'mothbeans', 'watermelon',\n",
       "       'chickpea', 'cotton', 'mango', 'orange', 'chickpea', 'pigeonpeas',\n",
       "       'muskmelon', 'apple', 'lentil', 'papaya', 'apple', 'muskmelon',\n",
       "       'muskmelon', 'mango', 'banana', 'mango', 'mango', 'rice', 'papaya',\n",
       "       'orange', 'chickpea', 'jute', 'maize', 'mungbean', 'kidneybeans',\n",
       "       'kidneybeans', 'apple', 'pomegranate', 'orange', 'chickpea',\n",
       "       'papaya', 'mungbean', 'cotton', 'watermelon', 'maize', 'muskmelon',\n",
       "       'kidneybeans', 'apple', 'muskmelon', 'apple', 'watermelon',\n",
       "       'coffee', 'lentil', 'banana', 'mungbean', 'banana', 'mango',\n",
       "       'maize', 'apple'], dtype=object)"
      ]
     },
     "execution_count": 12,
     "metadata": {},
     "output_type": "execute_result"
    }
   ],
   "source": [
    "predictad_values"
   ]
  },
  {
   "cell_type": "code",
   "execution_count": 13,
   "metadata": {},
   "outputs": [
    {
     "data": {
      "text/plain": [
       "array([0.53636364, 0.66363636, 0.7       , 0.59090909, 0.69090909,\n",
       "       0.7       , 0.69090909, 0.70909091, 0.77272727, 0.73636364,\n",
       "       0.62727273, 0.65454545, 0.6       , 0.62727273, 0.57272727,\n",
       "       0.57272727, 0.6       , 0.6       , 0.53636364, 0.42727273])"
      ]
     },
     "execution_count": 13,
     "metadata": {},
     "output_type": "execute_result"
    }
   ],
   "source": [
    "score = cross_val_score(SVM,features,target,cv=20)\n",
    "score"
   ]
  },
  {
   "cell_type": "code",
   "execution_count": 12,
   "metadata": {},
   "outputs": [
    {
     "data": {
      "text/plain": [
       "SVC(gamma='auto')"
      ]
     },
     "execution_count": 12,
     "metadata": {},
     "output_type": "execute_result"
    }
   ],
   "source": [
    "SVM"
   ]
  },
  {
   "cell_type": "code",
   "execution_count": 13,
   "metadata": {},
   "outputs": [
    {
     "data": {
      "text/html": [
       "<div>\n",
       "<style scoped>\n",
       "    .dataframe tbody tr th:only-of-type {\n",
       "        vertical-align: middle;\n",
       "    }\n",
       "\n",
       "    .dataframe tbody tr th {\n",
       "        vertical-align: top;\n",
       "    }\n",
       "\n",
       "    .dataframe thead th {\n",
       "        text-align: right;\n",
       "    }\n",
       "</style>\n",
       "<table border=\"1\" class=\"dataframe\">\n",
       "  <thead>\n",
       "    <tr style=\"text-align: right;\">\n",
       "      <th></th>\n",
       "      <th>humidity</th>\n",
       "      <th>temperature</th>\n",
       "      <th>labelID</th>\n",
       "    </tr>\n",
       "  </thead>\n",
       "  <tbody>\n",
       "    <tr>\n",
       "      <th>2121</th>\n",
       "      <td>91.073555</td>\n",
       "      <td>23.012402</td>\n",
       "      <td>21</td>\n",
       "    </tr>\n",
       "    <tr>\n",
       "      <th>960</th>\n",
       "      <td>60.492446</td>\n",
       "      <td>25.567483</td>\n",
       "      <td>9</td>\n",
       "    </tr>\n",
       "    <tr>\n",
       "      <th>952</th>\n",
       "      <td>57.932502</td>\n",
       "      <td>24.994518</td>\n",
       "      <td>9</td>\n",
       "    </tr>\n",
       "    <tr>\n",
       "      <th>1958</th>\n",
       "      <td>95.487634</td>\n",
       "      <td>27.638349</td>\n",
       "      <td>19</td>\n",
       "    </tr>\n",
       "    <tr>\n",
       "      <th>681</th>\n",
       "      <td>92.975275</td>\n",
       "      <td>23.501282</td>\n",
       "      <td>6</td>\n",
       "    </tr>\n",
       "  </tbody>\n",
       "</table>\n",
       "</div>"
      ],
      "text/plain": [
       "       humidity  temperature  labelID\n",
       "2121  91.073555    23.012402       21\n",
       "960   60.492446    25.567483        9\n",
       "952   57.932502    24.994518        9\n",
       "1958  95.487634    27.638349       19\n",
       "681   92.975275    23.501282        6"
      ]
     },
     "execution_count": 13,
     "metadata": {},
     "output_type": "execute_result"
    }
   ],
   "source": [
    "Xtest.head()"
   ]
  },
  {
   "cell_type": "code",
   "execution_count": 43,
   "metadata": {},
   "outputs": [
    {
     "data": {
      "text/plain": [
       "array(['pigeonpeas', 'pigeonpeas', 'pigeonpeas'], dtype=object)"
      ]
     },
     "execution_count": 43,
     "metadata": {},
     "output_type": "execute_result"
    }
   ],
   "source": [
    "# 1 = chickpea\n",
    "test_1 = pd.DataFrame({'humidity': [20.4031, 24.8420, 30], \n",
    "                    'temperature': [20.4507, 20.1608, 23], \n",
    "                    'P': [1, 1, 1],\n",
    "                    'ph': [3.2, 4.2, 5.2]})\n",
    "\n",
    "SVM.predict(test_1)\n"
   ]
  }
 ],
 "metadata": {
  "interpreter": {
   "hash": "26de051ba29f2982a8de78e945f0abaf191376122a1563185a90213a26c5da77"
  },
  "kernelspec": {
   "display_name": "Python 3 (ipykernel)",
   "language": "python",
   "name": "python3"
  },
  "language_info": {
   "codemirror_mode": {
    "name": "ipython",
    "version": 3
   },
   "file_extension": ".py",
   "mimetype": "text/x-python",
   "name": "python",
   "nbconvert_exporter": "python",
   "pygments_lexer": "ipython3",
   "version": "3.10.6"
  }
 },
 "nbformat": 4,
 "nbformat_minor": 2
}
